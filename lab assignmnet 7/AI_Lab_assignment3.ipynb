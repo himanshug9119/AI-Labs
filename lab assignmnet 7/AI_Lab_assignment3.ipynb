{
  "nbformat": 4,
  "nbformat_minor": 0,
  "metadata": {
    "colab": {
      "provenance": []
    },
    "kernelspec": {
      "name": "python3",
      "display_name": "Python 3"
    },
    "language_info": {
      "name": "python"
    }
  },
  "cells": [
    {
      "cell_type": "code",
      "execution_count": 14,
      "metadata": {
        "id": "kpJoCsaGDnos"
      },
      "outputs": [],
      "source": [
        "import pandas as pd\n",
        "from sklearn.model_selection import train_test_split\n",
        "from sklearn.tree import DecisionTreeClassifier\n",
        "from sklearn.metrics import confusion_matrix, f1_score\n",
        "from sklearn.preprocessing import LabelEncoder\n",
        "import numpy as np"
      ]
    },
    {
      "cell_type": "code",
      "source": [
        "from google.colab import drive\n",
        "drive.mount('/content/drive')"
      ],
      "metadata": {
        "colab": {
          "base_uri": "https://localhost:8080/"
        },
        "id": "FAuR-Dq0DxsO",
        "outputId": "c5fa538a-e0af-4a96-c4df-c9d4abc9edb1"
      },
      "execution_count": 15,
      "outputs": [
        {
          "output_type": "stream",
          "name": "stdout",
          "text": [
            "Drive already mounted at /content/drive; to attempt to forcibly remount, call drive.mount(\"/content/drive\", force_remount=True).\n"
          ]
        }
      ]
    },
    {
      "cell_type": "code",
      "source": [
        "data =pd.read_csv(\"/content/drive/MyDrive/car.data\")"
      ],
      "metadata": {
        "id": "2zOhGk_5D6f5"
      },
      "execution_count": 16,
      "outputs": []
    },
    {
      "cell_type": "code",
      "source": [
        "data.columns = ['buying', 'maint', 'doors', 'persons', 'lug_boot', 'safety', 'class']\n",
        "\n",
        "le = LabelEncoder()\n",
        "for column in data.columns:\n",
        "    data[column] = le.fit_transform(data[column])\n",
        "\n",
        "\n",
        "X = data.drop('class', axis=1)\n",
        "y = data['class']\n",
        "\n",
        "\n",
        "def func(X, y, test_size, criterion, n_repeats):\n",
        "    accuracy_scores = []\n",
        "    f_scores = []\n",
        "\n",
        "    for _ in range(n_repeats):\n",
        "\n",
        "        X_train, X_test, y_train, y_test = train_test_split(X, y, test_size=test_size, stratify=y)\n",
        "\n",
        "\n",
        "        clf = DecisionTreeClassifier(criterion=criterion)\n",
        "\n",
        "\n",
        "        clf.fit(X_train, y_train)\n",
        "\n",
        "\n",
        "        y_pred = clf.predict(X_test)\n",
        "\n",
        "\n",
        "        cm = confusion_matrix(y_test, y_pred)\n",
        "        fscore = f1_score(y_test, y_pred, average='weighted')\n",
        "\n",
        "\n",
        "        accuracy = (cm.diagonal().sum()) / cm.sum()\n",
        "        accuracy_scores.append(accuracy)\n",
        "        f_scores.append(fscore)\n",
        "\n",
        "\n",
        "    average_accuracy = np.mean(accuracy_scores)\n",
        "    average_fscore = np.mean(f_scores)\n",
        "    return average_accuracy, average_fscore\n",
        "\n",
        "\n",
        "test_sizes = [0.4, 0.3, 0.2]\n",
        "criteria = ['entropy', 'gini']\n",
        "n_repeats = 20\n",
        "\n",
        "\n",
        "results = {}\n",
        "\n",
        "for test_size in test_sizes:\n",
        "    for criterion in criteria:\n",
        "        key = f'{int((1-test_size)*100)}% training data with {criterion}'\n",
        "        results[key] = func(X, y, test_size, criterion, n_repeats)\n",
        "\n",
        "\n",
        "for key, value in results.items():\n",
        "    print(f\"{key}: Average Accuracy: {value[0]}, Average F-score: {value[1]}\")\n"
      ],
      "metadata": {
        "colab": {
          "base_uri": "https://localhost:8080/"
        },
        "id": "1pNRg4GYMEiD",
        "outputId": "cd04a789-76bf-4a78-82b0-0097f921f662"
      },
      "execution_count": 17,
      "outputs": [
        {
          "output_type": "stream",
          "name": "stdout",
          "text": [
            "60% training data with entropy: Average Accuracy: 0.9710564399421129, Average F-score: 0.9709820571553438\n",
            "60% training data with gini: Average Accuracy: 0.9705499276410998, Average F-score: 0.9705670719894375\n",
            "70% training data with entropy: Average Accuracy: 0.9764932562620423, Average F-score: 0.9765215332015653\n",
            "70% training data with gini: Average Accuracy: 0.9722543352601157, Average F-score: 0.9721520986910231\n",
            "80% training data with entropy: Average Accuracy: 0.9819364161849711, Average F-score: 0.9819380620139395\n",
            "80% training data with gini: Average Accuracy: 0.9765895953757224, Average F-score: 0.9766468059982423\n"
          ]
        }
      ]
    }
  ]
}